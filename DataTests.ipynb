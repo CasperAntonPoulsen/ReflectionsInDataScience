{
 "cells": [
  {
   "cell_type": "markdown",
   "metadata": {},
   "source": [
    "Import "
   ]
  },
  {
   "cell_type": "code",
   "execution_count": 1,
   "metadata": {},
   "outputs": [],
   "source": [
    "import numpy as np\n",
    "import pandas as pd\n",
    "from scipy.stats import ks_2samp, ranksums, median_test"
   ]
  },
  {
   "cell_type": "markdown",
   "metadata": {},
   "source": [
    "Define Helper functions"
   ]
  },
  {
   "cell_type": "code",
   "execution_count": 2,
   "metadata": {},
   "outputs": [],
   "source": [
    "# function for getting posts at specified age in days\n",
    "def get_day_df(df, day, days_column='days_passed'):\n",
    "    return df[df[days_column] == day]\n",
    "\n",
    "#function for getting arrays of treatment and experimental values \n",
    "def get_treatment_control_arrays(df, value_column='score', treatment_column='isExperimental'):\n",
    "    #split dataframe into treatment and control\n",
    "    experimental_index = df[treatment_column]\n",
    "    treatment_df = df[experimental_index]\n",
    "    control_df = df[~experimental_index]\n",
    "    #create arrays of values\n",
    "    treatment_array = np.array(treatment_df[value_column])\n",
    "    control_array = np.array(control_df[value_column])\n",
    "    return treatment_array, control_array\n",
    "    \n",
    "\n",
    "#function for calculating the number of additional votes and score for posts \n",
    "def calculate_additional_votes_and_score(df, treatment_column='isExperimental', votes_column='nVotes', comments_column='nComments'):\n",
    "    #one vote is subtracted from all posts since all posts automatically start with one vote from the author \n",
    "    df['additional_votes'] = df[votes_column] - 1\n",
    "    #an additional vote is subtracted from experimental posts\n",
    "    experimental_index = df[treatment_column]\n",
    "    df.loc[experimental_index, 'additional_votes'] = df[df[treatment_column]]['additional_votes'] - 1\n",
    "    #score is the sum of additional votes and comments\n",
    "    df['score'] = df['additional_votes'] + df['nComments']\n"
   ]
  },
  {
   "cell_type": "markdown",
   "metadata": {},
   "source": [
    "Read data files"
   ]
  },
  {
   "cell_type": "code",
   "execution_count": 3,
   "metadata": {},
   "outputs": [],
   "source": [
    "first_batch_file = 'first_batch_wdays.csv'\n",
    "second_batch_file = 'second_batch_wdays.csv'\n",
    "first_df = pd.read_csv(first_batch_file, sep = ';')\n",
    "second_df = pd.read_csv(second_batch_file, sep = ';')"
   ]
  },
  {
   "cell_type": "markdown",
   "metadata": {},
   "source": [
    "Calculate the number of additional votes"
   ]
  },
  {
   "cell_type": "code",
   "execution_count": 4,
   "metadata": {},
   "outputs": [],
   "source": [
    "calculate_additional_votes_and_score(first_df)\n",
    "calculate_additional_votes_and_score(second_df)"
   ]
  },
  {
   "cell_type": "markdown",
   "metadata": {},
   "source": [
    "Control variables"
   ]
  },
  {
   "cell_type": "code",
   "execution_count": 5,
   "metadata": {},
   "outputs": [],
   "source": [
    "#what values are statistical test done on\n",
    "value_column = 'additional_votes'\n",
    "#alternative hypothsis for rank-sum test\n",
    "ranksum_alternative = 'greater'\n",
    "#alternative hypothesis  for Mood's median test\n",
    "ks_alternative = 'two-sided'\n",
    "#Number of days after first observation to perform tests on\n",
    "day = 7"
   ]
  },
  {
   "cell_type": "markdown",
   "metadata": {},
   "source": [
    "Get data for day number seven after first observation"
   ]
  },
  {
   "cell_type": "code",
   "execution_count": 6,
   "metadata": {},
   "outputs": [],
   "source": [
    "day_first_df  = get_day_df(first_df, day)\n",
    "day_second_df = get_day_df(second_df, day)"
   ]
  },
  {
   "cell_type": "markdown",
   "metadata": {},
   "source": [
    "Get treatement and control arrays for first and second batch"
   ]
  },
  {
   "cell_type": "code",
   "execution_count": 7,
   "metadata": {},
   "outputs": [],
   "source": [
    "treatment_array_first, control_array_first = get_treatment_control_arrays(day_first_df, value_column=value_column)\n",
    "treatment_array_second, control_array_second = get_treatment_control_arrays(day_second_df, value_column=value_column)"
   ]
  },
  {
   "cell_type": "markdown",
   "metadata": {},
   "source": [
    "Calculate mean number of additional votes for the 2 batches"
   ]
  },
  {
   "cell_type": "code",
   "execution_count": 8,
   "metadata": {},
   "outputs": [
    {
     "name": "stdout",
     "output_type": "stream",
     "text": [
      "First batch mean  treatment: 79.2 control: 66.3\n",
      "Second batch mean treatment: 55.6 control: 66.1\n"
     ]
    }
   ],
   "source": [
    "print('First batch mean  treatment: {:.1f} control: {:.1f}'.format(np.mean(treatment_array_first), np.mean(control_array_first)))\n",
    "print('Second batch mean treatment: {:.1f} control: {:.1f}'.format(np.mean(treatment_array_second), np.mean(control_array_second)))"
   ]
  },
  {
   "cell_type": "markdown",
   "metadata": {},
   "source": [
    "Perform Mood's median test"
   ]
  },
  {
   "cell_type": "code",
   "execution_count": 9,
   "metadata": {},
   "outputs": [
    {
     "name": "stdout",
     "output_type": "stream",
     "text": [
      "First batch  median test 6.27e+00 p:0.0123\n",
      "Second batch median test 1.65e+01 p:0.0000\n"
     ]
    }
   ],
   "source": [
    "median_stat_first, median_p_first, median_med_first, _ = median_test(treatment_array_first, control_array_first)\n",
    "median_stat_second, median_p_second, median_med_second, _ = median_test(treatment_array_second, control_array_second)\n",
    "print('First batch  median test {:.2e} p:{:.4f}'.format(median_stat_first, median_p_first))\n",
    "print('Second batch median test {:.2e} p:{:.4f}'.format(median_stat_second, median_p_second))"
   ]
  },
  {
   "cell_type": "markdown",
   "metadata": {},
   "source": [
    "Perform rank-sum test"
   ]
  },
  {
   "cell_type": "code",
   "execution_count": 10,
   "metadata": {},
   "outputs": [
    {
     "name": "stdout",
     "output_type": "stream",
     "text": [
      "First batch  rank-sum: -8.01 p: 1.0000\n",
      "Second batch rank-sum: -13.79 p: 1.0000\n"
     ]
    }
   ],
   "source": [
    "ranksum_res_first, ranksum_p_first = ranksums(treatment_array_first, control_array_first, ranksum_alternative)\n",
    "ranksum_res_second, ranksum_p_second = ranksums(treatment_array_second, control_array_second, ranksum_alternative)\n",
    "print('First batch  rank-sum: {:.2f} p: {:.4f}'.format(ranksum_res_first, ranksum_p_first))\n",
    "print('Second batch rank-sum: {:.2f} p: {:.4f}'.format(ranksum_res_second, ranksum_p_second))"
   ]
  },
  {
   "cell_type": "markdown",
   "metadata": {},
   "source": [
    "Perform Kolmogorov-Smirnov test"
   ]
  },
  {
   "cell_type": "code",
   "execution_count": 11,
   "metadata": {},
   "outputs": [
    {
     "name": "stdout",
     "output_type": "stream",
     "text": [
      "Treatment KS: 0.04 p: 0.1387\n",
      "Control   KS: 0.03 p: 0.4432\n"
     ]
    }
   ],
   "source": [
    "\n",
    "\n",
    "#Kolmogorov-Smirnoff test to check if treament and control are similar across batches\n",
    "ks_res_treatment, ks_p_treatment = ks_2samp(treatment_array_first, treatment_array_second, ks_alternative)\n",
    "ks_res_control, ks_p_control = ks_2samp(control_array_first, control_array_second, ks_alternative)\n",
    "print('Treatment KS: {:.2f} p: {:.4f}'.format(ks_res_treatment, ks_p_treatment))\n",
    "print('Control   KS: {:.2f} p: {:.4f}'.format(ks_res_control, ks_p_control))\n",
    "    "
   ]
  }
 ],
 "metadata": {
  "kernelspec": {
   "display_name": "Python 3 (ipykernel)",
   "language": "python",
   "name": "python3"
  },
  "language_info": {
   "codemirror_mode": {
    "name": "ipython",
    "version": 3
   },
   "file_extension": ".py",
   "mimetype": "text/x-python",
   "name": "python",
   "nbconvert_exporter": "python",
   "pygments_lexer": "ipython3",
   "version": "3.7.11"
  }
 },
 "nbformat": 4,
 "nbformat_minor": 2
}
