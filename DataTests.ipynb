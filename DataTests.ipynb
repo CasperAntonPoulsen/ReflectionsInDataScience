{
 "cells": [
  {
   "cell_type": "code",
   "execution_count": null,
   "metadata": {},
   "outputs": [],
   "source": [
    "import numpy as np\n",
    "import pandas as pd\n",
    "from scipy.stats import ks_2samp, chisquare, ranksums, median_test\n",
    "import matplotlib.pyplot as plt\n",
    "import powerlaw"
   ]
  },
  {
   "cell_type": "markdown",
   "metadata": {},
   "source": [
    "define functions"
   ]
  },
  {
   "cell_type": "code",
   "execution_count": null,
   "metadata": {},
   "outputs": [],
   "source": [
    "# function for getting posts at specified age in days\n",
    "def get_day_df(df, day, days_column='days_passed'):\n",
    "    return df[df[days_column] == day]\n",
    "    \n",
    "def get_treatment_control_arrays(df, value_column='score', treatment_column='isExperimental'):\n",
    "    #split dataframe into treatment and control\n",
    "    experimental_index = df[treatment_column]\n",
    "    treatment_df = df[experimental_index]\n",
    "    control_df = df[~experimental_index]\n",
    "    #create arrays of values\n",
    "    treatment_array = np.array(treatment_df[value_column])\n",
    "    control_array = np.array(control_df[value_column])\n",
    "    return treatment_array, control_array\n",
    "    \n",
    "\n",
    "#function for calculating the number of additional votes and score for posts \n",
    "def calculate_additional_votes_and_score(df, treatment_column='isExperimental', votes_column='nVotes', comments_column='nComments'):\n",
    "    #one vote is subtracted from all posts since all posts automatically start with one vote from the author \n",
    "    df['additional_votes'] = df[votes_column] - 1\n",
    "    #an additional vote is subtracted from experimental posts\n",
    "    experimental_index = df[treatment_column]\n",
    "    df.loc[experimental_index, 'additional_votes'] = df[df[treatment_column]]['additional_votes'] - 1\n",
    "    #score is the sum of additional votes and comments\n",
    "    df['score'] = df['additional_votes'] + df['nComments']\n",
    "\n",
    "\n",
    "def perform_chi2_test(treatment_array, control_array):\n",
    "    n_treatment = len(treatment_array)\n",
    "    n_control = len(control_array)\n",
    "    #count number of posts with additional score\n",
    "    treatment_additional = np.sum(treatment_array >= 1)\n",
    "    treatment_not = n_treatment-treatment_additional\n",
    "    treatment_pct = treatment_additional/n_treatment\n",
    "    control_additional = np.sum(control_array >= 1)\n",
    "    control_pct = control_additional/n_control\n",
    "    chi2_observed = [treatment_additional, treatment_not]\n",
    "    #sum of observed and expected must be the same so expected is calculated from control pct and \n",
    "    control_additional_adjusted = int(control_pct*n_treatment)\n",
    "    control_not_adjusted = n_treatment-control_additional_adjusted\n",
    "    chi2_expected = [control_additional_adjusted, control_not_adjusted]\n",
    "    #perform chi2 test\n",
    "    chi2 = chisquare(chi2_observed, chi2_expected)\n",
    "    return chi2[0], chi2[1], treatment_pct*100, control_pct*100"
   ]
  },
  {
   "cell_type": "markdown",
   "metadata": {},
   "source": [
    "read data"
   ]
  },
  {
   "cell_type": "code",
   "execution_count": null,
   "metadata": {},
   "outputs": [],
   "source": [
    "first_batch_file = 'first_batch_wdays.csv'\n",
    "second_batch_file = 'second_batch_wdays.csv'\n",
    "first_df = pd.read_csv(first_batch_file, sep = ';')\n",
    "second_df = pd.read_csv(second_batch_file, sep = ';')"
   ]
  },
  {
   "cell_type": "markdown",
   "metadata": {},
   "source": [
    "calculate additional votes"
   ]
  },
  {
   "cell_type": "code",
   "execution_count": null,
   "metadata": {},
   "outputs": [],
   "source": [
    "calculate_additional_votes_and_score(first_df)\n",
    "calculate_additional_votes_and_score(second_df)"
   ]
  },
  {
   "cell_type": "markdown",
   "metadata": {},
   "source": [
    "loop through days and perform statistical tests"
   ]
  },
  {
   "cell_type": "code",
   "execution_count": null,
   "metadata": {},
   "outputs": [],
   "source": [
    "value_column = 'additional_votes'\n",
    "ranksum_alternative = 'greater'\n",
    "ks_alternative = 'two-sided'\n",
    "for day in range(7,8):\n",
    "    day_first_df  = get_day_df(first_df, day)\n",
    "    day_second_df = get_day_df(second_df, day)\n",
    "    treatment_array_first, control_array_first = get_treatment_control_arrays(day_first_df, value_column=value_column)\n",
    "    treatment_array_second, control_array_second = get_treatment_control_arrays(day_second_df, value_column=value_column)\n",
    "    print('Day {}'.format(day))\n",
    "    print('First batch count  treatment: {} control: {}'.format(len(treatment_array_first), len(control_array_first)))\n",
    "    print('Second batch count treatment: {} control: {}'.format(len(treatment_array_second), len(control_array_second)))\n",
    "    #calculate simple metrics\n",
    "    #mean\n",
    "    print('First batch mean  treatment: {:.1f} control: {:.1f}'.format(np.mean(treatment_array_first), np.mean(control_array_first)))\n",
    "    print('Second batch mean treatment: {:.1f} control: {:.1f}'.format(np.mean(treatment_array_second), np.mean(control_array_second)))\n",
    "    #median\n",
    "    print('First batch median  treatment: {} control: {}'.format(np.median(treatment_array_first), np.median(control_array_first)))\n",
    "    print('Second batch median treatment: {} control: {}'.format(np.median(treatment_array_second), np.median(control_array_second)))\n",
    "    #perform median test\n",
    "    median_stat_first, median_p_first, median_med_first, _ = median_test(treatment_array_first, control_array_first)\n",
    "    median_stat_second, median_p_second, median_med_second, _ = median_test(treatment_array_second, control_array_second)\n",
    "    print('First batch  median test ')\n",
    "    print('Second batch median test ')\n",
    "    #perform chi2 test and calculate pct succesfull\n",
    "    chi2_first, chi2_p_first, succes_pct_t_first, succes_pct_c_first = perform_chi2_test(treatment_array_first, control_array_first)\n",
    "    chi2_second, chi2_p_second, succes_pct_t_second, succes_pct_c_second = perform_chi2_test(treatment_array_second, control_array_second)\n",
    "    print('First batch succes  chi2: {:.2f} p: {:.3f} treatment {:.1f}% control {:.1f}%'.format(chi2_first, chi2_p_first, succes_pct_t_first, succes_pct_c_first))\n",
    "    print('Second batch succes chi2: {:.2f} p: {:.3f} treatment {:.1f}% control {:.1f}%'.format(chi2_second, chi2_p_second, succes_pct_t_second, succes_pct_c_second))\n",
    "    #ranksum test to see if the underlying distribution of the treatment is greater than the control. Null hypothesis is nah son\n",
    "    ranksum_res_first, ranksum_p_first = ranksums(treatment_array_first, control_array_first, ranksum_alternative)\n",
    "    ranksum_res_second, ranksum_p_second = ranksums(treatment_array_second, control_array_second, ranksum_alternative)\n",
    "    print('First batch  rank-sum: {:.2f} p: {:.3f}'.format(ranksum_res_first, ranksum_p_first))\n",
    "    print('Second batch rank-sum: {:.2f} p: {:.3f}'.format(ranksum_res_second, ranksum_p_second))\n",
    "    \n",
    "    #Kolmogorov-Smirnoff test to check if treament and control are similar across batches\n",
    "    ks_res_treatment, ks_p_treatment = ks_2samp(treatment_array_first, treatment_array_second, ks_alternative)\n",
    "    ks_res_control, ks_p_control = ks_2samp(control_array_first, control_array_second, ks_alternative)\n",
    "    print('Treatment KS: {:.2f} p: {:.3f}'.format(ks_res_treatment, ks_p_treatment))\n",
    "    print('Control   KS: {:.2f} p: {:.3f}'.format(ks_res_control, ks_p_control))\n",
    "    "
   ]
  }
 ],
 "metadata": {
  "language_info": {
   "name": "python"
  },
  "orig_nbformat": 4
 },
 "nbformat": 4,
 "nbformat_minor": 2
}
