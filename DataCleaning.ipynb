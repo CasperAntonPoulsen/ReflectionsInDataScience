{
 "cells": [
  {
   "cell_type": "code",
   "execution_count": null,
   "metadata": {},
   "outputs": [],
   "source": [
    "import pandas as pd\n",
    "import numpy as np"
   ]
  },
  {
   "cell_type": "markdown",
   "metadata": {},
   "source": [
    "read json file and create dataframe"
   ]
  },
  {
   "cell_type": "code",
   "execution_count": null,
   "metadata": {},
   "outputs": [],
   "source": [
    "\n",
    "json_file = 'at_postData_secondbatch.json'\n",
    "df = pd.read_json(json_file, lines=True)"
   ]
  },
  {
   "cell_type": "markdown",
   "metadata": {},
   "source": [
    "function for getting number of days "
   ]
  },
  {
   "cell_type": "code",
   "execution_count": null,
   "metadata": {},
   "outputs": [],
   "source": [
    "def td_days(td):\n",
    "    return td.days"
   ]
  },
  {
   "cell_type": "code",
   "execution_count": null,
   "metadata": {},
   "outputs": [],
   "source": [
    "#group by id and experimental status\n",
    "id_group = df.groupby([\"id\",\"isExperimental\"])\n",
    "#create list for post dfs\n",
    "df_list = []\n",
    "#loop thorugh unqiue posts\n",
    "for (post_id, isexperimental), group_df in id_group:\n",
    "    #get time of first post observation\n",
    "    first_time = group_df['datetime'].min()\n",
    "    #calculate time since first observation for all observation\n",
    "    time_passed = group_df['datetime'] - first_time\n",
    "    #calculate number of days passed since first observation\n",
    "    days_passed = np.array(time_passed.apply(td_days))\n",
    "    #get posts which have been observed at 7 days since first observation\n",
    "    if 7 in days_passed:\n",
    "        group_df['days_passed'] = days_passed\n",
    "        #remove potential duplicate observations due to bugs\n",
    "        group_df = group_df.drop_duplicates(subset=['id', 'days_passed'], keep = 'first')\n",
    "        #get observations form day one to seven\n",
    "        group_df = group_df[group_df['days_passed'] <= 7][1:]\n",
    "        #append post df to list \n",
    "        df_list.append(group_df)\n"
   ]
  },
  {
   "cell_type": "markdown",
   "metadata": {},
   "source": [
    "Writing the data to a file"
   ]
  },
  {
   "cell_type": "code",
   "execution_count": null,
   "metadata": {},
   "outputs": [],
   "source": [
    "#create dataframe\n",
    "all_df = pd.concat(df_list)\n",
    "#convert datframe to .csv file\n",
    "all_df.to_csv('second_batch_wdays.csv', sep = ';', index = False)"
   ]
  }
 ],
 "metadata": {
  "kernelspec": {
   "display_name": "Python 3 (ipykernel)",
   "language": "python",
   "name": "python3"
  },
  "language_info": {
   "codemirror_mode": {
    "name": "ipython",
    "version": 3
   },
   "file_extension": ".py",
   "mimetype": "text/x-python",
   "name": "python",
   "nbconvert_exporter": "python",
   "pygments_lexer": "ipython3",
   "version": "3.7.11"
  }
 },
 "nbformat": 4,
 "nbformat_minor": 2
}
