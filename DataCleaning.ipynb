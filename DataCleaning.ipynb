{
 "cells": [
  {
   "cell_type": "code",
   "execution_count": null,
   "metadata": {},
   "outputs": [],
   "source": [
    "import pandas as pd\n",
    "from collections import defaultdict\n",
    "import matplotlib.pyplot as plt\n",
    "import numpy as np"
   ]
  },
  {
   "cell_type": "markdown",
   "metadata": {},
   "source": [
    "read json file and create dataframe"
   ]
  },
  {
   "cell_type": "code",
   "execution_count": null,
   "metadata": {},
   "outputs": [],
   "source": [
    "\n",
    "json_file = 'at_postData_secondbatch.json'\n",
    "df = pd.read_json(json_file, lines=True)"
   ]
  },
  {
   "cell_type": "markdown",
   "metadata": {},
   "source": [
    "function for getting number of days "
   ]
  },
  {
   "cell_type": "code",
   "execution_count": null,
   "metadata": {},
   "outputs": [],
   "source": [
    "def td_days(td):\n",
    "    return td.days"
   ]
  },
  {
   "cell_type": "code",
   "execution_count": null,
   "metadata": {},
   "outputs": [],
   "source": [
    "#group by id and experimental status\n",
    "id_group = df.groupby([\"id\",\"isExperimental\"])\n",
    "#create list for \n",
    "df_list = []\n",
    "i = 0\n",
    "for (post_id, isexperimental), group_df in id_group:\n",
    "    first_time = group_df['datetime'].min()\n",
    "    time_passed = group_df['datetime'] - first_time\n",
    "    days_passed = np.array(time_passed.apply(td_days))\n",
    "    if 7 in days_passed:\n",
    "        group_df['days_passed'] = days_passed\n",
    "        group_df = group_df.drop_duplicates(subset=['id', 'days_passed'], keep = 'first')\n",
    "        group_df = group_df[group_df['days_passed'] <= 7][1:]\n",
    "        df_list.append(group_df)\n",
    "    i += 1\n",
    "    if i % 100 == 0:\n",
    "        print(i)"
   ]
  },
  {
   "cell_type": "markdown",
   "metadata": {},
   "source": [
    "Writing the data to a file"
   ]
  },
  {
   "cell_type": "code",
   "execution_count": null,
   "metadata": {},
   "outputs": [],
   "source": [
    "all_df = pd.concat(df_list)\n",
    "all_df.to_csv('second_batch_wdays.csv', sep = ';', index = False)"
   ]
  }
 ],
 "metadata": {
  "language_info": {
   "name": "python"
  },
  "orig_nbformat": 4
 },
 "nbformat": 4,
 "nbformat_minor": 2
}
