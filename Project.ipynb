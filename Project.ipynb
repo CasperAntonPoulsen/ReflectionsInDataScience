{
 "cells": [
  {
   "cell_type": "markdown",
   "metadata": {},
   "source": [
    "# Project for Reflections In Data Science\n",
    "## Reddit post tracker\n",
    "\n",
    "Select new posts without any form of engagement, divide them into two seperate groups.\n",
    "The two groups are a control and one group which will be given a like/upvote. \n",
    "These posts are then tracked to see their development. \n",
    "\n",
    "This process is repeated every day for 7 days.\n"
   ]
  },
  {
   "cell_type": "markdown",
   "metadata": {},
   "source": [
    "## Technical description\n",
    "A group of subreddits are chosen. The script is set to traverse each subreddits \"new posts\" page a select posts without"
   ]
  },
  {
   "cell_type": "code",
   "execution_count": 36,
   "metadata": {},
   "outputs": [],
   "source": [
    "import requests\n",
    "from bs4 import BeautifulSoup as soup\n",
    "\n",
    "baseUrl = \"https://www.reddit.com/r/\"\n",
    "\n",
    "pages = [\"EscapeFromTarkov\"]\n",
    "\n",
    "for page in pages:\n",
    "\n",
    "    # Navigate to the new posts part of the page\n",
    "    r =  requests.get(baseUrl + page + \"/new\")\n",
    "\n",
    "    if r.status_code != 200:\n",
    "        print(\"Error: \", r.status_code)\n",
    "\n",
    "    s = soup(r.text, \"html.parser\")\n",
    "\n",
    "    # Find all of the post containers\n",
    "    posts = s.select(\"div[data-testid='post-container']\")\n",
    "\n",
    "    for post in posts:\n",
    "\n",
    "        # In the post, find the upvote button. \n",
    "        # The next div in the html contains the number of votes.\n",
    "        # If there are no votes there is a placeholder \"Vote\".\n",
    "        noVotes = post.select_one(\"button[aria-label='upvote']\").find_next(\"div\").text == \"Vote\"\n",
    "\n",
    "        # There is a number of comments displayed in the text field of an a object in the html\n",
    "        noComments = post.select_one(\"a[data-click-id='comments']\").text.split(\" \")[0] == \"0\"\n",
    "\n",
    "        # If both conditions are met, add the post to a group\n",
    "        if noVotes and noComments:\n",
    "            print(\"Eligible post, url: \" + post.select_one(\"a[data-click-id='body']\")[\"href\"])"
   ]
  }
 ],
 "metadata": {
  "interpreter": {
   "hash": "19bbe116319a3d197a3ddb38a16045fea2deda13e9c9b86a0bbeaa5509e6cc3c"
  },
  "kernelspec": {
   "display_name": "Python 3.9.7 64-bit ('base': conda)",
   "language": "python",
   "name": "python3"
  },
  "language_info": {
   "codemirror_mode": {
    "name": "ipython",
    "version": 3
   },
   "file_extension": ".py",
   "mimetype": "text/x-python",
   "name": "python",
   "nbconvert_exporter": "python",
   "pygments_lexer": "ipython3",
   "version": "3.9.7"
  },
  "orig_nbformat": 4
 },
 "nbformat": 4,
 "nbformat_minor": 2
}
